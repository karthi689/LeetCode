{
 "cells": [
  {
   "cell_type": "markdown",
   "metadata": {},
   "source": [
    "# <div style=\"color:white;display:fill;border-radius:5px;background-color:#8ABEB9;overflow:hidden\"><p style=\"padding:20px;color:white;overflow:hidden;font-size:110%;margin:0;text-align:center\">Sorting</p></div>"
   ]
  },
  {
   "cell_type": "code",
   "execution_count": 1,
   "metadata": {},
   "outputs": [
    {
     "data": {
      "text/plain": [
       "True"
      ]
     },
     "execution_count": 1,
     "metadata": {},
     "output_type": "execute_result"
    }
   ],
   "source": [
    "# Linear search on UNSORTED List\n",
    "def linearSearch(L, e):\n",
    "    found = False\n",
    "    for i in range(len(L)):\n",
    "        if e == L[i]:\n",
    "            found = True\n",
    "    return found\n",
    "linearSearch([1,2,3,5,4], 3)"
   ]
  },
  {
   "cell_type": "code",
   "execution_count": 2,
   "metadata": {},
   "outputs": [
    {
     "data": {
      "text/plain": [
       "False"
      ]
     },
     "execution_count": 2,
     "metadata": {},
     "output_type": "execute_result"
    }
   ],
   "source": [
    "def search(L, e):\n",
    "    for i in range(len(L)):\n",
    "        if L[i] == e:\n",
    "            return True\n",
    "        elif L[i] > e:\n",
    "            return False\n",
    "    return False\n",
    "search([1,2,3,4,5], 6)"
   ]
  },
  {
   "cell_type": "code",
   "execution_count": 3,
   "metadata": {},
   "outputs": [
    {
     "data": {
      "text/plain": [
       "False"
      ]
     },
     "execution_count": 3,
     "metadata": {},
     "output_type": "execute_result"
    }
   ],
   "source": [
    "# Bi-select search\n",
    "def helper(L, e, low, high):\n",
    "    if (high == low):\n",
    "        return L[low] == e\n",
    "    mid = (low + high) // 2\n",
    "    if L[mid] == e:\n",
    "        return True\n",
    "    elif L[mid] > e:\n",
    "        if low == mid:\n",
    "            return False\n",
    "        else:\n",
    "            return helper(L, e, low, mid - 1)\n",
    "    else:\n",
    "        return helper(L, e, mid + 1, high)\n",
    "\n",
    "def bisectSearch(L, e):\n",
    "    if len(L) == 0:\n",
    "        return False\n",
    "    else:\n",
    "        return helper(L, e, 0, len(L) - 1)\n",
    "bisectSearch([1,2,3,4,5], 6)"
   ]
  },
  {
   "cell_type": "code",
   "execution_count": 4,
   "metadata": {},
   "outputs": [
    {
     "name": "stdout",
     "output_type": "stream",
     "text": [
      "[1, 3, 5, 2, 6, 7, 18, 13, 25]\n",
      "[1, 3, 2, 5, 6, 7, 13, 18, 25]\n",
      "[1, 2, 3, 5, 6, 7, 13, 18, 25]\n",
      "[1, 2, 3, 5, 6, 7, 13, 18, 25]\n"
     ]
    },
    {
     "data": {
      "text/plain": [
       "[1, 2, 3, 5, 6, 7, 13, 18, 25]"
      ]
     },
     "execution_count": 4,
     "metadata": {},
     "output_type": "execute_result"
    }
   ],
   "source": [
    "def bubbleSort(L):\n",
    "    swap = False\n",
    "    while not swap: # while loop for doing multiple passes until no more swaps\n",
    "        swap = True\n",
    "        for i in range(1, len(L)): # for loop for doing comparisons\n",
    "            if L[i - 1] > L[i]:\n",
    "                swap = False\n",
    "                temp = L[i]\n",
    "                L[i] = L[i-1]\n",
    "                L[i-1] = temp\n",
    "        print(L)\n",
    "    return L\n",
    "bubbleSort([1,3,5,7,2,6,25,18,13])"
   ]
  },
  {
   "cell_type": "code",
   "execution_count": 5,
   "metadata": {},
   "outputs": [
    {
     "name": "stdout",
     "output_type": "stream",
     "text": [
      "[1, 3, 5, 7, 2, 6, 25, 18, 13]\n",
      "[1, 2, 5, 7, 3, 6, 25, 18, 13]\n",
      "[1, 2, 3, 7, 5, 6, 25, 18, 13]\n",
      "[1, 2, 3, 5, 7, 6, 25, 18, 13]\n",
      "[1, 2, 3, 5, 6, 7, 25, 18, 13]\n",
      "[1, 2, 3, 5, 6, 7, 25, 18, 13]\n",
      "[1, 2, 3, 5, 6, 7, 13, 25, 18]\n",
      "[1, 2, 3, 5, 6, 7, 13, 18, 25]\n",
      "[1, 2, 3, 5, 6, 7, 13, 18, 25]\n"
     ]
    },
    {
     "data": {
      "text/plain": [
       "[1, 2, 3, 5, 6, 7, 13, 18, 25]"
      ]
     },
     "execution_count": 5,
     "metadata": {},
     "output_type": "execute_result"
    }
   ],
   "source": [
    "def selectionSort(L):\n",
    "    suffixst = 0\n",
    "    while suffixst != len(L):\n",
    "        for i in range (suffixst, len(L)):\n",
    "            if L[i] < L[suffixst]:\n",
    "                L[suffixst], L[i] = L[i], L[suffixst]\n",
    "        suffixst += 1\n",
    "        print(L)\n",
    "    return L\n",
    "selectionSort([1,3,5,7,2,6,25,18,13])    "
   ]
  },
  {
   "cell_type": "code",
   "execution_count": 6,
   "metadata": {},
   "outputs": [
    {
     "data": {
      "text/plain": [
       "[1, 2, 3, 5, 6, 7, 13, 18, 25]"
      ]
     },
     "execution_count": 6,
     "metadata": {},
     "output_type": "execute_result"
    }
   ],
   "source": [
    "def insertionSort(L):\n",
    "    for i in range (1, len(L)):\n",
    "        j = i\n",
    "        while L[j - 1] > L[j] and j > 0:\n",
    "            L[j - 1], L[j] = L[j], L[j - 1]\n",
    "            j -= 1\n",
    "    return L\n",
    "insertionSort([1,3,5,7,2,6,25,18,13])"
   ]
  },
  {
   "cell_type": "code",
   "execution_count": 7,
   "metadata": {},
   "outputs": [
    {
     "data": {
      "text/plain": [
       "[1, 2, 3, 5, 6, 7, 13, 18, 25]"
      ]
     },
     "execution_count": 7,
     "metadata": {},
     "output_type": "execute_result"
    }
   ],
   "source": [
    "def helper(L, R):\n",
    "    result = []\n",
    "    i, j = 0, 0\n",
    "    # left & right sublists are ordered\n",
    "    while i < len(L) and j < len(R):\n",
    "        # move indices of sublists depending on which sublist holds next smallest element\n",
    "        if L[i] < R[j]:\n",
    "            result.append(L[i])\n",
    "            i += 1\n",
    "        else:\n",
    "            result.append(R[j])\n",
    "            j += 1\n",
    "    # when left sublist is empty\n",
    "    while i < len(L):\n",
    "        result.append(L[i])\n",
    "        i += 1\n",
    "    # when right sublist is empty\n",
    "    while j < len(R):\n",
    "        result.append(R[j])\n",
    "        j += 1\n",
    "    return result\n",
    "\n",
    "def mergeSort(Li):\n",
    "    # base case\n",
    "    if len(Li) < 2:\n",
    "        return Li[:]\n",
    "    else:\n",
    "        mid = len(Li) // 2\n",
    "        # divide \n",
    "        L = mergeSort(Li[:mid])\n",
    "        R = mergeSort(Li[mid:])\n",
    "        # conquer with helper\n",
    "        return helper(L, R)\n",
    "mergeSort([1,3,5,7,2,6,25,18,13])"
   ]
  }
 ],
 "metadata": {
  "kernelspec": {
   "display_name": "Python 3",
   "language": "python",
   "name": "python3"
  },
  "language_info": {
   "codemirror_mode": {
    "name": "ipython",
    "version": 3
   },
   "file_extension": ".py",
   "mimetype": "text/x-python",
   "name": "python",
   "nbconvert_exporter": "python",
   "pygments_lexer": "ipython3",
   "version": "3.7.4"
  }
 },
 "nbformat": 4,
 "nbformat_minor": 2
}
