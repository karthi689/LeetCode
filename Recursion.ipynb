{
 "cells": [
  {
   "cell_type": "markdown",
   "metadata": {},
   "source": [
    "# <div style=\"color:white;display:fill;border-radius:5px;background-color:#8ABEB9;overflow:hidden\"><p style=\"padding:20px;color:white;overflow:hidden;font-size:110%;margin:0;text-align:center\">Recursion</p></div>"
   ]
  },
  {
   "cell_type": "markdown",
   "metadata": {},
   "source": [
    "The process in which a function calling to itself directly or indirectly is called recursion"
   ]
  },
  {
   "cell_type": "code",
   "execution_count": 1,
   "metadata": {},
   "outputs": [
    {
     "data": {
      "text/plain": [
       "24"
      ]
     },
     "execution_count": 1,
     "metadata": {},
     "output_type": "execute_result"
    }
   ],
   "source": [
    "#18 Factorial of a number using recursion\n",
    "\n",
    "def factorial(n):\n",
    "    if n < 0:\n",
    "        return \"Negative number\"\n",
    "    elif n == 0:\n",
    "        return 1\n",
    "    elif n == 1:\n",
    "        return n\n",
    "    else:\n",
    "        return n * factorial(n-1)\n",
    "    \n",
    "factorial(4)"
   ]
  },
  {
   "cell_type": "markdown",
   "metadata": {},
   "source": [
    "Height of tree is space complexity\n",
    "\n",
    "Number of nodes in tree is time complexity"
   ]
  },
  {
   "cell_type": "code",
   "execution_count": 2,
   "metadata": {},
   "outputs": [
    {
     "data": {
      "text/plain": [
       "10"
      ]
     },
     "execution_count": 2,
     "metadata": {},
     "output_type": "execute_result"
    }
   ],
   "source": [
    "# sum of n natural number using recursion\n",
    "\n",
    "def sum(n):\n",
    "    if n < 0:\n",
    "        return \"Negative number\"\n",
    "    elif n == 0:\n",
    "        return \"Not a natural number\"\n",
    "    elif n == 1:\n",
    "        return n\n",
    "    else:\n",
    "        return n + sum(n-1)\n",
    "    \n",
    "sum(4)"
   ]
  },
  {
   "cell_type": "code",
   "execution_count": 3,
   "metadata": {},
   "outputs": [
    {
     "data": {
      "text/plain": [
       "13"
      ]
     },
     "execution_count": 3,
     "metadata": {},
     "output_type": "execute_result"
    }
   ],
   "source": [
    "#15 nth fibonacci number using recursion\n",
    "\n",
    "def fibo(n):\n",
    "    if n == 1:\n",
    "        return 1\n",
    "    elif n == 2:\n",
    "        return 1\n",
    "    else:\n",
    "        return fibo(n-1) + fibo(n-2)\n",
    "fibo(7)"
   ]
  },
  {
   "cell_type": "code",
   "execution_count": 4,
   "metadata": {},
   "outputs": [
    {
     "data": {
      "text/plain": [
       "81"
      ]
     },
     "execution_count": 4,
     "metadata": {},
     "output_type": "execute_result"
    }
   ],
   "source": [
    "#23 nth power of a number using recursion\n",
    "\n",
    "def power(x,n):\n",
    "    if n == 0:\n",
    "        return 1\n",
    "    else:\n",
    "        return x * power(x,n-1)\n",
    "power(3,4)"
   ]
  },
  {
   "cell_type": "code",
   "execution_count": 5,
   "metadata": {},
   "outputs": [
    {
     "data": {
      "text/plain": [
       "81"
      ]
     },
     "execution_count": 5,
     "metadata": {},
     "output_type": "execute_result"
    }
   ],
   "source": [
    "#23 nth power of a number using recursion\n",
    "\n",
    "def power(x,n):\n",
    "    if n == 0:\n",
    "        return 1  \n",
    "    else:\n",
    "        temp = power(x,n/2)\n",
    "        if (n%2 == 1):\n",
    "            return temp * temp * x \n",
    "        else:\n",
    "            return temp * temp\n",
    "power(3,4)"
   ]
  },
  {
   "cell_type": "code",
   "execution_count": 6,
   "metadata": {},
   "outputs": [
    {
     "data": {
      "text/plain": [
       "'String is Palindrome'"
      ]
     },
     "execution_count": 6,
     "metadata": {},
     "output_type": "execute_result"
    }
   ],
   "source": [
    "#25 check palindrome\n",
    "def isPalindrome(s):\n",
    "    if len(s) < 1:\n",
    "        return \"String is Palindrome\"\n",
    "    else:\n",
    "        if s[0] != s[-1]:\n",
    "            return \"String is not Palindrome\"\n",
    "        else:\n",
    "            return isPalindrome(s[1:-1])\n",
    "\n",
    "isPalindrome('ABCRRCBA')"
   ]
  },
  {
   "cell_type": "markdown",
   "metadata": {},
   "source": [
    "4 Steps:\n",
    "\n",
    "1. Identify the problem as recursive\n",
    "2. Do small work\n",
    "3. Ask recursion todo remaining work\n",
    "4. Base condition"
   ]
  },
  {
   "cell_type": "code",
   "execution_count": 7,
   "metadata": {},
   "outputs": [
    {
     "data": {
      "text/plain": [
       "[5, 4, 3, 2, 1]"
      ]
     },
     "execution_count": 7,
     "metadata": {},
     "output_type": "execute_result"
    }
   ],
   "source": [
    "#682 reverse the array\n",
    "\n",
    "def reverseArray(array):\n",
    "    if len(array) == 0:\n",
    "        return []\n",
    "    else:\n",
    "        return [array.pop()] + reverseArray(array)\n",
    "    \n",
    "reverseArray([1, 2, 3, 4, 5])"
   ]
  },
  {
   "cell_type": "markdown",
   "metadata": {},
   "source": [
    "# <div style=\"color:white;display:fill;border-radius:5px;background-color:#8ABEB9;overflow:hidden\"><p style=\"padding:20px;color:white;overflow:hidden;font-size:110%;margin:0;text-align:center\">Interview Questions</p></div>"
   ]
  },
  {
   "cell_type": "code",
   "execution_count": 8,
   "metadata": {},
   "outputs": [
    {
     "data": {
      "text/plain": [
       "[['a', 'b', 'c'], ['a', 'b'], ['a', 'c'], ['a'], ['b', 'c'], ['b'], ['c'], []]"
      ]
     },
     "execution_count": 8,
     "metadata": {},
     "output_type": "execute_result"
    }
   ],
   "source": [
    "#8 subset string\n",
    "def helper(str, i, subset, ans):\n",
    "    if i == len(str):\n",
    "        ans.append(subset)\n",
    "        return\n",
    "    else:\n",
    "        x = str[i]\n",
    "        helper(str, i + 1, subset + [x], ans)\n",
    "        helper(str, i + 1, subset, ans)\n",
    "    \n",
    "def pwset(str):\n",
    "    ans, subset = [], []\n",
    "    helper(str, 0, subset, ans)\n",
    "    return ans\n",
    "pwset('abc')"
   ]
  },
  {
   "cell_type": "code",
   "execution_count": 14,
   "metadata": {},
   "outputs": [
    {
     "data": {
      "text/plain": [
       "[[1, 2, 3], [1, 2], [1, 3], [1], [2, 3], [2], [3], []]"
      ]
     },
     "execution_count": 14,
     "metadata": {},
     "output_type": "execute_result"
    }
   ],
   "source": [
    "#8 subset string\n",
    "def helper(str, i, subset, ans):\n",
    "    if i == len(str):\n",
    "        ans.append(subset)\n",
    "        return     \n",
    "    else:\n",
    "        x = str[i] # for ith element\n",
    "        helper(str, i + 1, subset + [x], ans) # with ith element\n",
    "        helper(str, i + 1, subset, ans) # w/o ith element\n",
    "    \n",
    "def pwset(str):\n",
    "    ans, subset = [], []\n",
    "    helper(str, 0, subset, ans)\n",
    "    return ans\n",
    "pwset([1, 2, 3])"
   ]
  },
  {
   "cell_type": "code",
   "execution_count": 32,
   "metadata": {
    "scrolled": true
   },
   "outputs": [
    {
     "data": {
      "text/plain": [
       "[[], [1], [1, 2], [1, 2, 2], [2], [2, 2]]"
      ]
     },
     "execution_count": 32,
     "metadata": {},
     "output_type": "execute_result"
    }
   ],
   "source": [
    "#90 unique subset string\n",
    "def helper(str, i, subset, ans):\n",
    "    if i == len(str):\n",
    "        ans.append(subset)\n",
    "        return     \n",
    "    else:\n",
    "        x = str[i] # for ith element\n",
    "        helper(str, i + 1, subset + [x], ans) # with ith element\n",
    "        while (i+1 < len(str) and str[i] == str[i+1]):\n",
    "            i += 1\n",
    "        helper(str, i + 1, subset, ans) # w/o ith element\n",
    "    \n",
    "def pwset(str):\n",
    "    ans, subset = [], []\n",
    "    str.sort()\n",
    "    helper(str, 0, subset, ans)\n",
    "    ans.sort()\n",
    "    return ans\n",
    "pwset([2, 1, 2])"
   ]
  },
  {
   "cell_type": "code",
   "execution_count": 15,
   "metadata": {},
   "outputs": [
    {
     "data": {
      "text/plain": [
       "[[1, 2, 2], [1, 2, 2], [2, 1, 2], [2, 2, 1], [2, 2, 1], [2, 1, 2]]"
      ]
     },
     "execution_count": 15,
     "metadata": {},
     "output_type": "execute_result"
    }
   ],
   "source": [
    "#47 permutations array\n",
    "def helper(nums, i, ans): \n",
    "    length = len(nums)\n",
    "    if i >= length: \n",
    "        ans.append(nums[:])\n",
    "        return\n",
    "    else: \n",
    "        for j in range(i, length): \n",
    "            #swap\n",
    "            nums[j], nums[i] = nums[i], nums[j] \n",
    "            helper(nums, i+1, ans) \n",
    "            nums[j], nums[i] = nums[i], nums[j] \n",
    "\n",
    "def generatePermutations(nums):\n",
    "    ans = []\n",
    "    helper(nums, 0, ans)\n",
    "    return ans\n",
    "    \n",
    "generatePermutations([1, 2, 2])"
   ]
  },
  {
   "cell_type": "code",
   "execution_count": 10,
   "metadata": {},
   "outputs": [
    {
     "data": {
      "text/plain": [
       "[[1, 2, 2], [2, 1, 2], [2, 2, 1]]"
      ]
     },
     "execution_count": 10,
     "metadata": {},
     "output_type": "execute_result"
    }
   ],
   "source": [
    "#47 unique permutations array\n",
    "def helper(nums, i, ans): \n",
    "    length = len(nums)\n",
    "    cur = set()\n",
    "    if i >= length: \n",
    "        ans.append(nums[:])\n",
    "        return\n",
    "    else: \n",
    "        for j in range(i, length): \n",
    "            #swap\n",
    "            nums[j], nums[i] = nums[i], nums[j] \n",
    "            if nums[i] not in cur:\n",
    "                cur.add(nums[i])\n",
    "                helper(nums, i+1, ans) \n",
    "            nums[j], nums[i] = nums[i], nums[j] \n",
    "\n",
    "def generatePermutations(nums):\n",
    "    ans = []\n",
    "    helper(nums, 0, ans)\n",
    "    return ans\n",
    "    \n",
    "generatePermutations([1, 2, 2])"
   ]
  },
  {
   "cell_type": "code",
   "execution_count": 11,
   "metadata": {},
   "outputs": [
    {
     "data": {
      "text/plain": [
       "[['a', 'b', 'b'], ['b', 'a', 'b'], ['b', 'b', 'a']]"
      ]
     },
     "execution_count": 11,
     "metadata": {},
     "output_type": "execute_result"
    }
   ],
   "source": [
    "#47 unique permutations string\n",
    "def helper(nums, i, ans): \n",
    "    length = len(nums)\n",
    "    cur = set()\n",
    "    if i >= length: \n",
    "        ans.append(nums[:])\n",
    "        return\n",
    "     \n",
    "    for j in range(i, length): \n",
    "        #swap\n",
    "        nums[j], nums[i] = nums[i], nums[j] \n",
    "        if nums[i] not in cur:\n",
    "            cur.add(nums[i])\n",
    "            helper(nums, i+1, ans) \n",
    "        nums[j], nums[i] = nums[i], nums[j] \n",
    "    \n",
    "def generatePermutations(nums):\n",
    "    ans = []\n",
    "    nums = list(nums)\n",
    "    helper(nums, 0, ans)\n",
    "    return ans\n",
    "    \n",
    "generatePermutations(\"abb\")"
   ]
  },
  {
   "cell_type": "code",
   "execution_count": 12,
   "metadata": {},
   "outputs": [
    {
     "name": "stdout",
     "output_type": "stream",
     "text": [
      "a b b\n",
      "b a b\n",
      "b b a\n"
     ]
    }
   ],
   "source": [
    "#47 unique permutations string w/o ''\n",
    "def helper(str, i): \n",
    "    length = len(str)\n",
    "    cur = set()\n",
    "    s = ' '\n",
    "    if i >= length: \n",
    "        print (s.join(str))\n",
    "    else: \n",
    "        for j in range(i, length): \n",
    "            #swap\n",
    "            str[j], str[i] = str[i], str[j] \n",
    "            if str[i] not in cur:\n",
    "                cur.add(str[i])\n",
    "                helper(str, i + 1) \n",
    "            str[j], str[i] = str[i], str[j] \n",
    "\n",
    "    \n",
    "def generatePermutations(str):\n",
    "    str = list(str)\n",
    "    helper(str, 0)\n",
    "    \n",
    "generatePermutations(\"abb\")"
   ]
  },
  {
   "cell_type": "code",
   "execution_count": null,
   "metadata": {},
   "outputs": [],
   "source": []
  }
 ],
 "metadata": {
  "kernelspec": {
   "display_name": "Python 3",
   "language": "python",
   "name": "python3"
  },
  "language_info": {
   "codemirror_mode": {
    "name": "ipython",
    "version": 3
   },
   "file_extension": ".py",
   "mimetype": "text/x-python",
   "name": "python",
   "nbconvert_exporter": "python",
   "pygments_lexer": "ipython3",
   "version": "3.7.4"
  }
 },
 "nbformat": 4,
 "nbformat_minor": 2
}
